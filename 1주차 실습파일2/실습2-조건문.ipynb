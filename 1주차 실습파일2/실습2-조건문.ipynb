{
 "cells": [
  {
   "cell_type": "markdown",
   "metadata": {},
   "source": [
    "IF문"
   ]
  },
  {
   "cell_type": "code",
   "execution_count": null,
   "metadata": {},
   "outputs": [],
   "source": [
    "age = int(input(\"나이를 입력하세요: \"))\n",
    "if age >= 18:\n",
    "    print(\"회원 가입 가능\")\n",
    "else:\n",
    "    print(\"가입 불가 - 18세 이상만 가능합니다.\")"
   ]
  },
  {
   "cell_type": "markdown",
   "metadata": {},
   "source": [
    "ELIF문"
   ]
  },
  {
   "cell_type": "code",
   "execution_count": null,
   "metadata": {},
   "outputs": [
    {
     "name": "stdout",
     "output_type": "stream",
     "text": [
      "불합격입니다.\n"
     ]
    }
   ],
   "source": [
    "score = int(input(\"점수를 입력하세요: \"))\n",
    "if score >= 90:\n",
    "    print(\"축하합니다!합격입니다.\")\n",
    "elif score < 90:\n",
    "    print(\"불합격입니다.\")"
   ]
  },
  {
   "cell_type": "markdown",
   "metadata": {},
   "source": [
    "중첩IF문"
   ]
  },
  {
   "cell_type": "code",
   "execution_count": null,
   "metadata": {},
   "outputs": [],
   "source": [
    "score = int(input(\"점수를 입력하세요: \"))\n",
    "if score >= 90:\n",
    "    print(\"A학점\")\n",
    "    if score >= 95:\n",
    "        print(\"축하합니다! A+ 학점입니다.\")\n",
    "elif score >= 80:\n",
    "    print(\"B학점\")\n",
    "    if score >= 85:\n",
    "        print(\"좋아요! B+학점입니다.\")\n",
    "else:\n",
    "    print(\"C학점 이하\")\n",
    "    if score < 60:\n",
    "        print(\"불합격입니다.\")"
   ]
  },
  {
   "cell_type": "markdown",
   "metadata": {},
   "source": [
    "MATCH-CASE문"
   ]
  },
  {
   "cell_type": "code",
   "execution_count": 1,
   "metadata": {},
   "outputs": [
    {
     "name": "stdout",
     "output_type": "stream",
     "text": [
      "화요일\n"
     ]
    }
   ],
   "source": [
    "day = int(input(\"요일을 선택하세요 (1~7): \"))\n",
    "match day:\n",
    "    case 1:\n",
    "        print(\"일요일\")\n",
    "    case 2:\n",
    "        print(\"월요일\")\n",
    "    case 3:\n",
    "        print(\"화요일\")\n",
    "    case 4:\n",
    "        print(\"수요일\")\n",
    "    case 5:\n",
    "        print(\"목요일\")\n",
    "    case 6:\n",
    "        print(\"금요일\")\n",
    "    case 7:\n",
    "        print(\"토요일\")"
   ]
  },
  {
   "cell_type": "markdown",
   "metadata": {},
   "source": [
    "실용예제 – 로그인 구현"
   ]
  },
  {
   "cell_type": "code",
   "execution_count": 4,
   "metadata": {},
   "outputs": [
    {
     "name": "stdout",
     "output_type": "stream",
     "text": [
      "비밀번호가 틀렸습니다.\n"
     ]
    }
   ],
   "source": [
    "username = input(\"아이디를 입력하세요: \")\n",
    "password = input(\"비밀번호를 입력하세요: \")\n",
    "\n",
    "if username == \"admin\":\n",
    "    if password == \"1234\":\n",
    "        print(\"로그인 성공! 환영합니다.\")\n",
    "    else:\n",
    "        print(\"비밀번호가 틀렸습니다.\")\n",
    "else:\n",
    "    print(\"존재하지 않는 사용자입니다.\")"
   ]
  }
 ],
 "metadata": {
  "kernelspec": {
   "display_name": "jupyter113",
   "language": "python",
   "name": "python3"
  },
  "language_info": {
   "codemirror_mode": {
    "name": "ipython",
    "version": 3
   },
   "file_extension": ".py",
   "mimetype": "text/x-python",
   "name": "python",
   "nbconvert_exporter": "python",
   "pygments_lexer": "ipython3",
   "version": "3.13.2"
  }
 },
 "nbformat": 4,
 "nbformat_minor": 2
}
