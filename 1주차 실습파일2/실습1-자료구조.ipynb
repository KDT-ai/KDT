{
 "cells": [
  {
   "cell_type": "markdown",
   "metadata": {},
   "source": [
    "리스트(list)"
   ]
  },
  {
   "cell_type": "code",
   "execution_count": 1,
   "metadata": {},
   "outputs": [
    {
     "name": "stdout",
     "output_type": "stream",
     "text": [
      "['apple', 'banana', 'cherry']\n",
      "1\n",
      "cherry\n"
     ]
    }
   ],
   "source": [
    "# 리스트 생성\n",
    "fruits = [\"apple\", \"banana\", \"cherry\"]\n",
    "numbers = [1, 2, 3, 4, 5]\n",
    "mixed = [1, \"hello\", 3.5, True]     # 다양한 타입 혼합 가능\n",
    "\n",
    "# 리스트 출력 \n",
    "print(fruits)       # ['apple', 'banana', 'cherry']\n",
    "print(numbers[0])   # 첫 번째 요소 접근 (index 0)\n",
    "print(fruits[-1])   # 마지막 요소 접근 (-1 인덱스)"
   ]
  },
  {
   "cell_type": "code",
   "execution_count": 2,
   "metadata": {},
   "outputs": [
    {
     "name": "stdout",
     "output_type": "stream",
     "text": [
      "apple\n",
      "cherry\n",
      "elderberry\n",
      "elderberry\n",
      "cherry\n"
     ]
    }
   ],
   "source": [
    "# 리스트 생성\n",
    "fruits = [\"apple\", \"banana\", \"cherry\", \"date\", \"elderberry\"]\n",
    "\n",
    "# 양수 인덱스로 접근 (0부터 시작)\n",
    "print(fruits[0])    # apple\n",
    "print(fruits[2])    # cherry\n",
    "print(fruits[4])    # elderberry\n",
    "\n",
    "# 음수 인덱스로 접근 (뒤에서부터)\n",
    "print(fruits[-1])   # elderberry\n",
    "print(fruits[-3])   # cherry"
   ]
  },
  {
   "cell_type": "code",
   "execution_count": 3,
   "metadata": {},
   "outputs": [
    {
     "name": "stdout",
     "output_type": "stream",
     "text": [
      "[20, 30, 40]\n",
      "[10, 20, 30]\n",
      "[40, 50, 60, 70]\n",
      "[10, 20, 30, 40, 50, 60, 70]\n"
     ]
    }
   ],
   "source": [
    "numbers = [10, 20, 30, 40, 50, 60, 70]\n",
    "\n",
    "print(numbers[1:4])     # [20, 30, 40] (인덱스 1부터 3까지)\n",
    "print(numbers[:3])      # [10, 20, 30] (처음부터 2까지)\n",
    "print(numbers[3:])      # [40, 50, 60, 70] (인덱스 3부터 끝까지)\n",
    "print(numbers[:])       # [10, 20, 30, 40, 50, 60, 70] (전체 리스트 복사"
   ]
  },
  {
   "cell_type": "code",
   "execution_count": 4,
   "metadata": {},
   "outputs": [
    {
     "name": "stdout",
     "output_type": "stream",
     "text": [
      "[10, 21, 31, 40, 50]\n",
      "[1, 2, 31, 40, 50]\n",
      "[1, 2, 31, 99, 100]\n"
     ]
    }
   ],
   "source": [
    "numbers = [10, 20, 30, 40, 50]\n",
    "\n",
    "numbers[1:3] = [21, 31]     # 인덱스 1~2의 값 변경 (20 -> 21, 30 -> 31)\n",
    "print(numbers)      # [1, 21, 31, 40, 50]\n",
    "\n",
    "numbers[:2] = [1, 2]        # 처음 두 개 요소 변경 (10 -> 1, 21 -> 2)\n",
    "print(numbers)      # [1, 2, 31, 40, 50]\n",
    "\n",
    "numbers[-2:] = [99, 100]     # 마지막 두 개 요소 변경 (40 -> 99, 50 -> 100)\n",
    "print(numbers)      # [1, 2, 31, 99, 100]"
   ]
  },
  {
   "cell_type": "markdown",
   "metadata": {},
   "source": [
    "튜플(tuple)"
   ]
  },
  {
   "cell_type": "code",
   "execution_count": 5,
   "metadata": {},
   "outputs": [
    {
     "name": "stdout",
     "output_type": "stream",
     "text": [
      "('apple', 'banana', 'cherry')\n",
      "(1, 2, 3, 4, 5)\n"
     ]
    }
   ],
   "source": [
    "# 일반적인 튜플 초기화\n",
    "fruits = (\"apple\", \"banana\", \"cherry\")\n",
    "numbers = (1, 2, 3, 4, 5)\n",
    "\n",
    "print(fruits)       #('apple', 'banana', 'cherry')\n",
    "print(numbers)      #(1, 2, 3, 4, 5)"
   ]
  },
  {
   "cell_type": "code",
   "execution_count": 6,
   "metadata": {},
   "outputs": [
    {
     "name": "stdout",
     "output_type": "stream",
     "text": [
      "apple\n",
      "cherry\n",
      "elderberry\n",
      "elderberry\n",
      "cherry\n"
     ]
    }
   ],
   "source": [
    "# 튜플 생성 \n",
    "fruits = (\"apple\", \"banana\", \"cherry\", \"date\", \"elderberry\")\n",
    "\n",
    "# 양수 인덱스\n",
    "print(fruits[0])    # apple\n",
    "print(fruits[2])    # cherry\n",
    "print(fruits[4])    # elderberry\n",
    "\n",
    "# 음수 인덱스 \n",
    "print(fruits[-1])   # elderberry (마지막 요소)\n",
    "print(fruits[-3])   # cherry (뒤에서 3번째 요소)"
   ]
  },
  {
   "cell_type": "markdown",
   "metadata": {},
   "source": [
    "딕셔너리(dictionary)"
   ]
  },
  {
   "cell_type": "code",
   "execution_count": 7,
   "metadata": {},
   "outputs": [
    {
     "name": "stdout",
     "output_type": "stream",
     "text": [
      "{'name': 'Alice', 'age': 25, 'city': 'Seoul'}\n"
     ]
    }
   ],
   "source": [
    "# 빈 딕셔너리 생성 후 값 추가\n",
    "person = {}\n",
    "\n",
    "person[\"name\"] = \"Alice\"\n",
    "person[\"age\"] = 25\n",
    "person[\"city\"] = \"Seoul\"\n",
    "\n",
    "print(person)\n",
    "# {'name' : 'Alice', 'age' : 25, 'city' : 'Seoul'}"
   ]
  },
  {
   "cell_type": "code",
   "execution_count": 8,
   "metadata": {},
   "outputs": [
    {
     "name": "stdout",
     "output_type": "stream",
     "text": [
      "Alice\n",
      "25\n",
      "Seoul\n"
     ]
    }
   ],
   "source": [
    "# 딕셔너리 생성\n",
    "person = {\"name\" : \"Alice\", \"age\" : 25, \"city\" : \"Seoul\" }\n",
    "\n",
    "# 키를 사용하여 값 가져오기\n",
    "print(person[\"name\"])   # Alice\n",
    "print(person[\"age\"])    # 25\n",
    "print(person[\"city\"])   # Seoul"
   ]
  },
  {
   "cell_type": "markdown",
   "metadata": {},
   "source": [
    "세트(set)"
   ]
  },
  {
   "cell_type": "code",
   "execution_count": null,
   "metadata": {},
   "outputs": [
    {
     "name": "stdout",
     "output_type": "stream",
     "text": [
      "{10, 5, 15}\n",
      "{10, 5, 15}\n",
      "{10, 5, 15}\n"
     ]
    }
   ],
   "source": [
    "# 1. 중괄호 '{}'를 사용하여 세트 생성\n",
    "numbers_a = {5, 10, 15}\n",
    "print(numbers_a)    # {5, 10, 15}\n",
    "\n",
    "# 2. 'set()' 생성자를 사용하여 리스트를 세트로 변환\n",
    "numbers_b = set([5, 10, 15])\n",
    "print(numbers_b)    # [5, 10, 15]\n",
    "\n",
    "# 3. 중복된 요소가 포함된 세트 생성 (자동으로 중복 제거)\n",
    "numbers_c = {5, 10, 15, 10, 5}\n",
    "print(numbers_c)    # {5, 10, 15} (중복 요소 제거)"
   ]
  },
  {
   "cell_type": "code",
   "execution_count": 10,
   "metadata": {},
   "outputs": [
    {
     "name": "stdout",
     "output_type": "stream",
     "text": [
      "{1, 2, 3, 4, 5, 6}\n",
      "{1, 2, 3, 4, 5, 6}\n"
     ]
    }
   ],
   "source": [
    "# 합집합\n",
    "A = {1, 2, 3, 4}\n",
    "B = {3, 4, 5, 6}\n",
    "\n",
    "# '|' 연산자 사용\n",
    "union_set = A | B\n",
    "print(union_set)# {1, 2, 3, 4, 5, 6}\n",
    "\n",
    "# 'union()' 메서드 사용\n",
    "union_set_method = A.union(B)\n",
    "print(union_set_method)# {1, 2, 3, 4, 5, 6}"
   ]
  },
  {
   "cell_type": "code",
   "execution_count": 11,
   "metadata": {},
   "outputs": [
    {
     "name": "stdout",
     "output_type": "stream",
     "text": [
      "{3, 4}\n",
      "{3, 4}\n"
     ]
    }
   ],
   "source": [
    "# 교집합\n",
    "A = {1, 2, 3, 4}\n",
    "B = {3, 4, 5, 6}\n",
    "\n",
    "# '&' 연산자 사용\n",
    "intersection_set = A & B\n",
    "print(intersection_set)     # {3, 4}\n",
    "\n",
    "# 'intersection()' 메서드 사용\n",
    "intersection_set_method = A.intersection(B)\n",
    "print(intersection_set_method)  # {3, 4}"
   ]
  },
  {
   "cell_type": "code",
   "execution_count": 12,
   "metadata": {},
   "outputs": [
    {
     "name": "stdout",
     "output_type": "stream",
     "text": [
      "{1, 2}\n",
      "{1, 2}\n",
      "{5, 6}\n"
     ]
    }
   ],
   "source": [
    "# 차집합\n",
    "A = {1, 2, 3, 4}\n",
    "B = {3, 4, 5, 6}\n",
    "\n",
    "# '-' 연산자 사용\n",
    "difference_set = A - B\n",
    "print(difference_set)           # {1, 2}\n",
    "\n",
    "# 'difference()' 메서드 사용\n",
    "difference_set_method = A.difference(B)\n",
    "print(difference_set_method)    # {1, 2}\n",
    "\n",
    "# 반대로 B에서 A의 요소를 제거\n",
    "difference_set_BA = B - A\n",
    "print(difference_set_BA)        # {5, 6}"
   ]
  },
  {
   "cell_type": "markdown",
   "metadata": {},
   "source": [
    "리스트 컴프리헨션"
   ]
  },
  {
   "cell_type": "code",
   "execution_count": 2,
   "metadata": {},
   "outputs": [
    {
     "name": "stdout",
     "output_type": "stream",
     "text": [
      "[0, 1, 2, 3, 4]\n",
      "[0, 1, 2, 3, 4]\n"
     ]
    }
   ],
   "source": [
    "# 기존의 for 문을 이용한 리스트 생성\n",
    "numbers = []\n",
    "for i in range(5):\n",
    "    numbers.append(i)\n",
    "\n",
    "print(numbers)      # [0, 1, 2, 3, 4]\n",
    "\n",
    "# 리스트 컴프리헨션을 사용한 동일 코드\n",
    "numbers = [i for i in range(5)]\n",
    "print(numbers)   # [0, 1, 2, 3, 4]"
   ]
  },
  {
   "cell_type": "code",
   "execution_count": 3,
   "metadata": {},
   "outputs": [
    {
     "name": "stdout",
     "output_type": "stream",
     "text": [
      "[0, 2, 4, 6, 8]\n",
      "[0, 3, 6, 9, 12, 15, 18]\n"
     ]
    }
   ],
   "source": [
    "# 짝수만 포함하는 리스트 생성\n",
    "even_numbers = [i for i in range(10) if i % 2 == 0]\n",
    "print(even_numbers) # [0, 2, 4, 6, 8]\n",
    "\n",
    "# 3의 배수만 포함하는 리스트 생성\n",
    "multiples_of_3 = [i for i in range(20) if i % 3 == 0]\n",
    "print(multiples_of_3)   # [0, 3, 6, 9, 12, 15, 18]"
   ]
  }
 ],
 "metadata": {
  "kernelspec": {
   "display_name": "jupyter113",
   "language": "python",
   "name": "python3"
  },
  "language_info": {
   "codemirror_mode": {
    "name": "ipython",
    "version": 3
   },
   "file_extension": ".py",
   "mimetype": "text/x-python",
   "name": "python",
   "nbconvert_exporter": "python",
   "pygments_lexer": "ipython3",
   "version": "3.13.2"
  }
 },
 "nbformat": 4,
 "nbformat_minor": 2
}
