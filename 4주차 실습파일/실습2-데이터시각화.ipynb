{
 "cells": [
  {
   "cell_type": "markdown",
   "metadata": {},
   "source": [
    "시각화 문법"
   ]
  },
  {
   "cell_type": "code",
   "execution_count": null,
   "metadata": {},
   "outputs": [],
   "source": [
    "import matplotlib.pyplot as plt\n",
    "x = [3,5,7,9]\n",
    "y = [2,4,6,8]\n",
    "plt.plot(x,y)\n",
    "plt.show()"
   ]
  },
  {
   "cell_type": "code",
   "execution_count": null,
   "metadata": {},
   "outputs": [],
   "source": [
    "import matplotlib.pyplot as plt\n",
    "x = [1, 2, 3, 4, 5]\n",
    "y = [2, 3, 5, 7, 11]\n",
    "plt.title('Basic Line')\n",
    "plt.plot(x, y)\n",
    "plt.show()"
   ]
  },
  {
   "cell_type": "markdown",
   "metadata": {},
   "source": [
    "Matplotlib 사용법"
   ]
  },
  {
   "cell_type": "code",
   "execution_count": null,
   "metadata": {},
   "outputs": [],
   "source": [
    "# Matplotlib 기본 사용법\n",
    "import matplotlib.pyplot as plt\n",
    "x = [1, 2, 3, 4, 5]\n",
    "y = [2, 3, 5, 7, 11]\n",
    "plt.plot(x, y)\n",
    "plt.title('Basic Line Plot')\n",
    "plt.xlabel('X-axis')\n",
    "plt.ylabel('Y-axis')\n",
    "plt.grid(True)\n",
    "plt.show()"
   ]
  },
  {
   "cell_type": "code",
   "execution_count": null,
   "metadata": {},
   "outputs": [],
   "source": [
    "# 막대 그래프(Bar Plot)\n",
    "categories = ['A', 'B', 'C', 'D']\n",
    "values = [10, 24, 36, 18]\n",
    "plt.bar(categories, values, color='skyblue')\n",
    "plt.title('Basic Bar Plot')\n",
    "plt.xlabel('Category')\n",
    "plt.ylabel('Value')\n",
    "plt.show()"
   ]
  },
  {
   "cell_type": "code",
   "execution_count": null,
   "metadata": {},
   "outputs": [],
   "source": [
    "# 파이 차트(Pie Chart)\n",
    "labels = ['apple', 'banana', 'cherry', 'pear']\n",
    "sizes = [30, 25, 25, 20]\n",
    "plt.pie(sizes, labels=labels, autopct='%1.1f%%', startangle=90)\n",
    "plt.title('pie chart')\n",
    "plt.show()"
   ]
  },
  {
   "cell_type": "code",
   "execution_count": null,
   "metadata": {},
   "outputs": [],
   "source": [
    "# 여러 그래프 출력(Subplot)\n",
    "x = [1, 2, 3, 4, 5]\n",
    "y1 = [2, 3, 5, 7, 11]\n",
    "y2 = [1, 4, 6, 8, 10]\n",
    "\n",
    "plt.subplot(1, 2, 1)\n",
    "plt.plot(x, y1, 'r--')\n",
    "plt.title('Line')\n",
    "\n",
    "plt.subplot(1, 2, 2)\n",
    "plt.bar(x, y2, color='cyan')\n",
    "plt.title('Bar')\n",
    "\n",
    "plt.tight_layout()  # 자동 여백 조정\n",
    "plt.show()"
   ]
  },
  {
   "cell_type": "code",
   "execution_count": null,
   "metadata": {},
   "outputs": [],
   "source": [
    "# 그래프 스타일(선, 마커 등)\n",
    "x = [1, 2, 3, 4, 5]\n",
    "y = [2, 3, 5, 7, 11]\n",
    "\n",
    "plt.plot(x, y, color='purple', linestyle='-.'\n",
    ", marker='o', linewidth=2, markersize=8)\n",
    "plt.title('Line style')\n",
    "plt.xlabel('X')\n",
    "plt.ylabel('Y')\n",
    "plt.show()"
   ]
  },
  {
   "cell_type": "markdown",
   "metadata": {},
   "source": [
    "Seaborn"
   ]
  },
  {
   "cell_type": "code",
   "execution_count": null,
   "metadata": {},
   "outputs": [],
   "source": [
    "# 라이브러리 임포트 및 데이터 로드\n",
    "import pandas as pd\n",
    "import seaborn as sns\n",
    "import matplotlib.pyplot as plt\n",
    "\n",
    "df = pd.read_excel('/…/seaborn_data_e.xlsx')"
   ]
  },
  {
   "cell_type": "code",
   "execution_count": null,
   "metadata": {},
   "outputs": [],
   "source": [
    "# 성별에 따른 구매금액 분포\n",
    "plt.figure(figsize=(8, 6))\n",
    "sns.boxplot(x='Gender', y='PurchaseAmount', data=df)\n",
    "plt.title('Purchase Amount by Gender')\n",
    "plt.show()"
   ]
  },
  {
   "cell_type": "code",
   "execution_count": null,
   "metadata": {},
   "outputs": [],
   "source": [
    "# 나이와 구매금액의 관계\n",
    "plt.figure(figsize=(8, 6))\n",
    "sns.scatterplot(x='Age', y='PurchaseAmount'\n",
    ", hue='Gender', data=df)\n",
    "plt.title('Age vs Purchase Amount (by Gender)')\n",
    "plt.show()"
   ]
  },
  {
   "cell_type": "code",
   "execution_count": null,
   "metadata": {},
   "outputs": [],
   "source": [
    "# 지역별 구매상품 빈도\n",
    "plt.figure(figsize=(10, 6))\n",
    "sns.countplot(x='Region', hue='Product', data=df)\n",
    "plt.title('Product Frequency by Region')\n",
    "plt.xticks(rotation=45)\n",
    "plt.show()"
   ]
  },
  {
   "cell_type": "code",
   "execution_count": null,
   "metadata": {},
   "outputs": [],
   "source": [
    "# 나이 분포\n",
    "plt.figure(figsize=(8, 6))\n",
    "sns.histplot(df['Age'], bins=10, kde=True\n",
    ", color='skyblue')\n",
    "plt.title('Age Distribution')\n",
    "plt.show()"
   ]
  },
  {
   "cell_type": "code",
   "execution_count": null,
   "metadata": {},
   "outputs": [],
   "source": [
    "# 구매금액 분포\n",
    "plt.figure(figsize=(8, 6))\n",
    "sns.histplot(df['PurchaseAmount'], bins=15\n",
    ", kde=True, color='salmon')\n",
    "plt.title('Purchase Amount Distribution')\n",
    "plt.show()"
   ]
  },
  {
   "cell_type": "code",
   "execution_count": null,
   "metadata": {},
   "outputs": [],
   "source": [
    "# 구매상품별 평균 구매금액\n",
    "plt.figure(figsize=(8, 6))\n",
    "sns.barplot(x='Product', y='PurchaseAmount', data=df\n",
    ", estimator=sum, ci=None)\n",
    "plt.title('Total Purchase Amount by Product')\n",
    "plt.xticks(rotation=45)\n",
    "plt.show()"
   ]
  },
  {
   "cell_type": "code",
   "execution_count": null,
   "metadata": {},
   "outputs": [],
   "source": [
    "# 성별 & 지역에 따른 평균 구매금액\n",
    "plt.figure(figsize=(10, 6))\n",
    "sns.pointplot(x='Region', y='PurchaseAmount', hue='Gender'\n",
    ", data=df, estimator='mean', ci=None)\n",
    "plt.title('Average Purchase Amount by Gender & Region')\n",
    "plt.show()"
   ]
  },
  {
   "cell_type": "code",
   "execution_count": null,
   "metadata": {},
   "outputs": [],
   "source": [
    "# 구매상품별 성별 분포\n",
    "plt.figure(figsize=(10, 6))\n",
    "sns.countplot(x='Product', hue='Gender', data=df)\n",
    "plt.title('Gender Distribution by Product')\n",
    "plt.xticks(rotation=45)\n",
    "plt.show()"
   ]
  }
 ],
 "metadata": {
  "kernelspec": {
   "display_name": "jupyter113",
   "language": "python",
   "name": "python3"
  },
  "language_info": {
   "name": "python",
   "version": "3.13.2"
  }
 },
 "nbformat": 4,
 "nbformat_minor": 2
}
