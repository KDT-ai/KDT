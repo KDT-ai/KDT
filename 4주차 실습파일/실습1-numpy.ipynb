{
 "cells": [
  {
   "cell_type": "markdown",
   "metadata": {},
   "source": [
    "Numpy"
   ]
  },
  {
   "cell_type": "code",
   "execution_count": null,
   "metadata": {},
   "outputs": [],
   "source": [
    "# 기본 배열 생성\n",
    "import numpy as np\n",
    "a = np.array([1, 2, 3, 4, 5])\n",
    "print(\"Array a:\", a)\n",
    "print(\"Type:\", type(a))\n",
    "print(\"Shape:\", a.shape)"
   ]
  },
  {
   "cell_type": "code",
   "execution_count": null,
   "metadata": {},
   "outputs": [],
   "source": [
    "# 2차원 배열 생성 (행렬)\n",
    "b = np.array([[1, 2, 3], [4, 5, 6]])\n",
    "print(\"\\nArray b:\\n\", b)\n",
    "print(\"Shape:\", b.shape)    # (2, 3)"
   ]
  },
  {
   "cell_type": "code",
   "execution_count": null,
   "metadata": {},
   "outputs": [],
   "source": [
    "# 연속 수열 생성\n",
    "# 0부터 9까지 정수 생성\n",
    "arr = np.arange(10)\n",
    "print(\"\\nArange array:\", arr)\n",
    "\n",
    "# 시작, 끝, 간격 지정\n",
    "arr2 = np.arange(1, 11, 2)\n",
    "print(\"Arange with step:\", arr2)"
   ]
  },
  {
   "cell_type": "code",
   "execution_count": null,
   "metadata": {},
   "outputs": [],
   "source": [
    "# 배열 모양 바꾸기\n",
    "# 1차원 배열을 2차원으로 변환\n",
    "arr = np.arange(12)\n",
    "reshaped_arr = arr.reshape(3, 4)\n",
    "print(\"\\nReshaped array:\\n\", reshaped_arr)"
   ]
  },
  {
   "cell_type": "code",
   "execution_count": null,
   "metadata": {},
   "outputs": [],
   "source": [
    "# 1차원 슬라이싱\n",
    "arr = np.arange(10)\n",
    "print(\"\\nOriginal array:\", arr)\n",
    "print(\"Slice 2 to 5:\", arr[2:6])\n",
    "\n",
    "# 2차원 슬라이싱\n",
    "matrix = np.arange(1, 13).reshape(3, 4)\n",
    "print(\"\\nMatrix:\\n\", matrix)\n",
    "print(\"First two rows and first two columns:\\n\"\n",
    ", matrix[:2, :2])\n",
    "print(\"Last row:\\n\", matrix[-1])"
   ]
  },
  {
   "cell_type": "code",
   "execution_count": null,
   "metadata": {},
   "outputs": [],
   "source": [
    "# 특정 위치의 값 선택\n",
    "matrix = np.array([[10, 20, 30]\n",
    ", [40, 50, 60], [70, 80, 90]])\n",
    "print(\"\\nMatrix:\\n\", matrix)\n",
    "\n",
    "selected = matrix[[0, 1, 2], [0, 1, 2]]\n",
    "print(\"Selected values (diagonal):\", selected)\n",
    "\n",
    "selected2 = matrix[[0, 1, 2], [2, 0, 1]]\n",
    "print(\"Selected values:\", selected2)"
   ]
  },
  {
   "cell_type": "code",
   "execution_count": null,
   "metadata": {},
   "outputs": [],
   "source": [
    "# 기본 산술 연산\n",
    "arr = np.array([1, 2, 3, 4, 5])\n",
    "\n",
    "print(\"\\nOriginal array:\", arr)\n",
    "print(\"Add 10:\", arr + 10)\n",
    "print(\"Multiply by 2:\", arr * 2)\n",
    "print(\"Square:\", arr ** 2)\n",
    "\n",
    "arr2 = np.array([5, 4, 3, 2, 1])\n",
    "print(\"\\nArray 2:\", arr2)\n",
    "print(\"Addition:\", arr + arr2)\n",
    "print(\"Multiplication:\", arr * arr2)"
   ]
  },
  {
   "cell_type": "code",
   "execution_count": null,
   "metadata": {},
   "outputs": [],
   "source": [
    "# 브로드캐스팅\n",
    "# 스칼라 연산\n",
    "matrix = np.array([[1, 2, 3], [4, 5, 6]])\n",
    "print(\"\\nMatrix:\\n\", matrix)\n",
    "print(\"Matrix + 10:\\n\", matrix + 10)\n",
    "\n",
    "# 열 단위 연산 (브로드캐스팅)\n",
    "col = np.array([1, 2]).reshape(2, 1)\n",
    "print(\"\\nColumn vector:\\n\", col)\n",
    "print(\"Matrix + Column:\\n\", matrix + col)"
   ]
  },
  {
   "cell_type": "code",
   "execution_count": null,
   "metadata": {},
   "outputs": [],
   "source": [
    "# 조건 필터링\n",
    "arr = np.arange(10)\n",
    "print(\"\\nOriginal array:\", arr)\n",
    "\n",
    "# 5보다 큰 값만\n",
    "filtered = arr[arr > 5]\n",
    "print(\"Values greater than 5:\", filtered)\n",
    "\n",
    "# 짝수만\n",
    "even = arr[arr % 2 == 0]\n",
    "print(\"Even numbers:\", even)"
   ]
  }
 ],
 "metadata": {
  "kernelspec": {
   "display_name": "jupyter113",
   "language": "python",
   "name": "python3"
  },
  "language_info": {
   "name": "python",
   "version": "3.13.2"
  }
 },
 "nbformat": 4,
 "nbformat_minor": 2
}
