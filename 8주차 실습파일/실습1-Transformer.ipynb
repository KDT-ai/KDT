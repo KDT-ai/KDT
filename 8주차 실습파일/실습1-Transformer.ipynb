{
 "cells": [
  {
   "cell_type": "markdown",
   "id": "aae5369d",
   "metadata": {},
   "source": [
    "Transformer 구현"
   ]
  },
  {
   "cell_type": "code",
   "execution_count": null,
   "id": "49fd2e98",
   "metadata": {},
   "outputs": [],
   "source": [
    "import torch\n",
    "import torch.nn as nn\n",
    "import torch.optim as optim\n",
    "import math"
   ]
  },
  {
   "cell_type": "code",
   "execution_count": null,
   "id": "f1c4575f",
   "metadata": {},
   "outputs": [],
   "source": [
    "# Positional Encoding (위치 인코딩)\n",
    "class PositionalEncoding(nn.Module):\n",
    "    def __init__(self, d_model, max_len=5000):\n",
    "        super(PositionalEncoding, self).__init__()\n",
    "        pe = torch.zeros(max_len, d_model)  # 위치 인코딩을 저장할 행렬 초기화\n",
    "        position = torch.arange(0, max_len, dtype=torch.float).unsqueeze(1)  # 위치값 생성\n",
    "        div_term = torch.exp(torch.arange(0, d_model, 2).float() * (-math.log(10000.0) / d_model))\n",
    "        pe[:, 0::2] = torch.sin(position * div_term)  # 짝수 인덱스에 사인 함수 적용\n",
    "        pe[:, 1::2] = torch.cos(position * div_term)  # 홀수 인덱스에 코사인 함수 적용\n",
    "        pe = pe.unsqueeze(0)  # 배치 차원 추가\n",
    "        self.register_buffer('pe', pe)  # 학습되지 않는 버퍼로 등록\n",
    "    \n",
    "    def forward(self, x):\n",
    "        return x + self.pe[:, :x.size(1), :]  # 입력 텐서에 위치 인코딩 추가"
   ]
  },
  {
   "cell_type": "code",
   "execution_count": null,
   "id": "5971c932",
   "metadata": {},
   "outputs": [],
   "source": [
    "# Multi-Head Self Attention (다중 헤드 자기 어텐션)\n",
    "class MultiHeadAttention(nn.Module):\n",
    "    def __init__(self, d_model, num_heads):\n",
    "        super(MultiHeadAttention, self).__init__()\n",
    "        assert d_model % num_heads == 0  # d_model이 num_heads로 나누어 떨어져야 함\n",
    "        self.d_model = d_model\n",
    "        self.num_heads = num_heads\n",
    "        self.d_k = d_model // num_heads  # 각 헤드의 차원 크기\n",
    "        \n",
    "        # Q, K, V를 위한 선형 변환 레이어\n",
    "        self.qkv_linear = nn.Linear(d_model, d_model * 3)\n",
    "        self.out_linear = nn.Linear(d_model, d_model)  # 최종 출력 변환\n",
    "        self.softmax = nn.Softmax(dim=-1)  # 어텐션 가중치 계산"
   ]
  },
  {
   "cell_type": "code",
   "execution_count": null,
   "id": "39ddb088",
   "metadata": {},
   "outputs": [],
   "source": [
    "def forward(self, x):\n",
    "        batch_size, seq_length, d_model = x.shape\n",
    "        \n",
    "        # Q, K, V로 변환 및 다중 헤드 분할\n",
    "        qkv = self.qkv_linear(x).view(batch_size, seq_length, 3, self.num_heads, self.d_k)\n",
    "        q, k, v = qkv.permute(2, 0, 3, 1, 4)  # (3, batch_size, num_heads, seq_length, d_k)\n",
    "        \n",
    "        # 어텐션 점수 계산 및 스케일링\n",
    "        scores = torch.matmul(q, k.transpose(-2, -1)) / math.sqrt(self.d_k)\n",
    "        attn = self.softmax(scores)  # 어텐션 가중치\n",
    "        \n",
    "        # 어텐션 가중치를 V에 적용하여 컨텍스트 벡터 생성\n",
    "        context = torch.matmul(attn, v).permute(0, 2, 1, 3).contiguous().view(batch_size, seq_length, d_model)\n",
    "        return self.out_linear(context)  # 최종 출력 변환"
   ]
  },
  {
   "cell_type": "code",
   "execution_count": null,
   "id": "d4ac9982",
   "metadata": {},
   "outputs": [],
   "source": [
    "# Feed Forward Network (포지션별 피드 포워드 네트워크)\n",
    "class PositionwiseFeedForward(nn.Module):\n",
    "    def __init__(self, d_model, d_ff):\n",
    "        super(PositionwiseFeedForward, self).__init__()\n",
    "        self.fc1 = nn.Linear(d_model, d_ff)  # 첫 번째 완전 연결층\n",
    "        self.fc2 = nn.Linear(d_ff, d_model)  # 두 번째 완전 연결층\n",
    "        self.relu = nn.ReLU()\n",
    "    \n",
    "    def forward(self, x):\n",
    "        return self.fc2(self.relu(self.fc1(x)))  # 활성화 함수 적용 후 변환"
   ]
  },
  {
   "cell_type": "code",
   "execution_count": null,
   "id": "5f94be40",
   "metadata": {},
   "outputs": [],
   "source": [
    "# Transformer Encoder Layer (트랜스포머 인코더 레이어)\n",
    "class TransformerEncoderLayer(nn.Module):\n",
    "    def __init__(self, d_model, num_heads, d_ff):\n",
    "        super(TransformerEncoderLayer, self).__init__()\n",
    "        self.attention = MultiHeadAttention(d_model, num_heads)  # 다중 헤드 어텐션\n",
    "        self.norm1 = nn.LayerNorm(d_model)  # 정규화 레이어\n",
    "        self.ffn = PositionwiseFeedForward(d_model, d_ff)  # 피드 포워드 네트워크\n",
    "        self.norm2 = nn.LayerNorm(d_model)  # 정규화 레이어\n",
    "    \n",
    "    def forward(self, x):\n",
    "        attn_output = self.attention(x)  # 자기 어텐션 수행\n",
    "        x = self.norm1(x + attn_output)  # 잔차 연결 및 정규화\n",
    "        ffn_output = self.ffn(x)  # 피드 포워드 네트워크 수행\n",
    "        return self.norm2(x + ffn_output)  # 잔차 연결 및 정규화"
   ]
  },
  {
   "cell_type": "code",
   "execution_count": null,
   "id": "b84140ed",
   "metadata": {},
   "outputs": [],
   "source": [
    "# Transformer Model (트랜스포머 모델)\n",
    "class Transformer(nn.Module):\n",
    "    def __init__(self, d_model=512, num_heads=8, d_ff=2048, num_layers=6, vocab_size=10000):\n",
    "        super(Transformer, self).__init__()\n",
    "        self.embedding = nn.Embedding(vocab_size, d_model)  # 단어 임베딩\n",
    "        self.positional_encoding = PositionalEncoding(d_model)  # 위치 인코딩\n",
    "        self.encoder = TransformerEncoder(d_model, num_heads, d_ff, num_layers)  # 인코더\n",
    "        self.fc_out = nn.Linear(d_model, vocab_size)  # 최종 출력 레이어\n",
    "    \n",
    "    def forward(self, x):\n",
    "        x = self.embedding(x)  # 단어를 벡터로 변환\n",
    "        x = self.positional_encoding(x)  # 위치 정보 추가\n",
    "        x = self.encoder(x)  # 인코더에 입력\n",
    "        return self.fc_out(x)  # 최종 출력"
   ]
  },
  {
   "cell_type": "code",
   "execution_count": null,
   "id": "8ea7331c",
   "metadata": {},
   "outputs": [],
   "source": [
    "# 모델 생성 및 테스트\n",
    "model = Transformer()\n",
    "test_input = torch.randint(0, 10000, (1, 10))  # 랜덤한 10개 토큰 시퀀스\n",
    "test_output = model(test_input)\n",
    "print(test_output.shape)  # 예상 출력: (1, 10, 10000) (각 단어에 대한 확률 분포)"
   ]
  }
 ],
 "metadata": {
  "kernelspec": {
   "display_name": "Python 3 (ipykernel)",
   "language": "python",
   "name": "python3"
  },
  "language_info": {
   "codemirror_mode": {
    "name": "ipython",
    "version": 3
   },
   "file_extension": ".py",
   "mimetype": "text/x-python",
   "name": "python",
   "nbconvert_exporter": "python",
   "pygments_lexer": "ipython3",
   "version": "3.10.13"
  }
 },
 "nbformat": 4,
 "nbformat_minor": 5
}
