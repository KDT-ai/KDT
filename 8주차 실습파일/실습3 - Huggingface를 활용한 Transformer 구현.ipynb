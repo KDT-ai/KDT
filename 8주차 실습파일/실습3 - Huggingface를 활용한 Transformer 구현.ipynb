{
 "cells": [
  {
   "cell_type": "code",
   "execution_count": null,
   "id": "de7f5dd8",
   "metadata": {},
   "outputs": [],
   "source": [
    "pip install transformers tensorflow pillow requests matplotlib\n",
    "\n",
    "from transformers import ViTFeatureExtractor, TFViTForImageClassification\n",
    "from PIL import Image\n",
    "import tensorflow as tf\n",
    "import matplotlib.pyplot as plt"
   ]
  },
  {
   "cell_type": "code",
   "execution_count": null,
   "id": "163230c6",
   "metadata": {},
   "outputs": [],
   "source": [
    "# Google Drive 경로 (data path는 로컬 path 직접 지정해줘야 함)\n",
    "image_paths = [\"/content/drive/MyDrive/cat.png\", \"/content/drive/MyDrive/dog.png\"]\n",
    "\n",
    "# 이미지 불러오기 및 RGB 변환\n",
    "images = [Image.open(path).convert(\"RGB\") for path in image_paths]"
   ]
  },
  {
   "cell_type": "code",
   "execution_count": null,
   "id": "67da3287",
   "metadata": {},
   "outputs": [],
   "source": [
    "# ViT 모델 및 Feature Extractor 불러오기\n",
    "feature_extractor = ViTFeatureExtractor.from_pretrained(\"google/vit-base-patch16-224\")\n",
    "model = TFViTForImageClassification.from_pretrained(\"google/vit-base-patch16-224\")"
   ]
  },
  {
   "cell_type": "code",
   "execution_count": null,
   "id": "1b771e92",
   "metadata": {},
   "outputs": [],
   "source": [
    "# 이미지 전처리\n",
    "inputs = feature_extractor(images, return_tensors=\"tf\")  # 전처리된 입력 생성\n",
    "res = model(**inputs)  # 모델 예측 수행"
   ]
  },
  {
   "cell_type": "code",
   "execution_count": null,
   "id": "a526325d",
   "metadata": {},
   "outputs": [],
   "source": [
    "# 예측 결과 확인 및 시각화\n",
    "for i, img in enumerate(images):\n",
    "    plt.imshow(img)  # 이미지 출력\n",
    "    plt.xticks([])  # 축 눈금 제거\n",
    "    plt.yticks([])\n",
    "    plt.show()\n",
    "    \n",
    "    # 예측된 클래스 찾기\n",
    "    predicted_label = int(tf.math.argmax(res.logits[i], axis=-1))\n",
    "    prob = float(tf.nn.softmax(res.logits[i])[predicted_label] * 100.0)\n",
    "    \n",
    "    # 결과 출력\n",
    "    print(f\"{i}번째 영상의 1순위 분류: {model.config.id2label[predicted_label]} ({prob:.2f}%)\")"
   ]
  },
  {
   "cell_type": "code",
   "execution_count": null,
   "id": "a0495242",
   "metadata": {},
   "outputs": [],
   "source": [
    "from transformers import DetrImageProcessor, DetrForObjectDetection\n",
    "from PIL import Image, ImageDraw\n",
    "import torch\n",
    "import matplotlib.pyplot as plt"
   ]
  },
  {
   "cell_type": "code",
   "execution_count": null,
   "id": "dd12ac6a",
   "metadata": {},
   "outputs": [],
   "source": [
    "# DETR 모델 불러오기\n",
    "processor = DetrImageProcessor.from_pretrained(\"facebook/detr-resnet-50\")\n",
    "model = DetrForObjectDetection.from_pretrained(\"facebook/detr-resnet-50\")"
   ]
  },
  {
   "cell_type": "code",
   "execution_count": null,
   "id": "0d262cdb",
   "metadata": {},
   "outputs": [],
   "source": [
    "# Google Drive 경로 (코랩 환경에서의 예시)\n",
    "image_paths = [\"/content/drive/MyDrive/cat.png\", \"/content/drive/MyDrive/dog.png\"]\n",
    "\n",
    "# 이미지 불러오기 및 RGB 변환\n",
    "images = [Image.open(path).convert(\"RGB\") for path in image_paths]\n",
    "\n",
    "# 이미지 전처리 및 모델 추론\n",
    "inputs = processor(images, return_tensors=\"pt\")  # PT는 PyTorch 텐서를 의미\n",
    "outputs = model(**inputs)\n",
    "\n",
    "# 모델 예측값(바운딩 박스 & 클래스) 가져오기\n",
    "target_sizes = [image.size[::-1] for image in images]  # 이미지 크기\n",
    "results = processor.post_process_object_detection(outputs, target_sizes=target_sizes)"
   ]
  },
  {
   "cell_type": "code",
   "execution_count": null,
   "id": "f6a3cbdb",
   "metadata": {},
   "outputs": [],
   "source": [
    "def draw_boxes(image, results, threshold=0.9):\n",
    "    \"\"\" 예측된 객체를 시각화하여 출력하는 함수 \"\"\"\n",
    "    draw = ImageDraw.Draw(image)\n",
    "    \n",
    "    for score, label, box in zip(results[\"scores\"], results[\"labels\"], results[\"boxes\"]):\n",
    "        if score > threshold:  # 신뢰도가 높은 경우만 출력\n",
    "            box = [round(i, 2) for i in box.tolist()]  # 좌표 변환\n",
    "            draw.rectangle(box, outline=\"red\", width=3)  # 바운딩 박스 그리기\n",
    "            text = f\"{model.config.id2label[label.item()]}: {score:.2f}\"\n",
    "            draw.text((box[0], box[1]), text, fill=\"red\")  # 클래스명 + 확률 표시\n",
    "            \n",
    "    return image\n",
    "\n",
    "# 각 이미지에 대해 결과 출력\n",
    "for i, (image, result) in enumerate(zip(images, results)):\n",
    "    plt.figure(figsize=(8, 6))\n",
    "    plt.imshow(draw_boxes(image, result))\n",
    "    plt.axis(\"off\")\n",
    "    plt.show()"
   ]
  }
 ],
 "metadata": {
  "kernelspec": {
   "display_name": "Python 3 (ipykernel)",
   "language": "python",
   "name": "python3"
  },
  "language_info": {
   "codemirror_mode": {
    "name": "ipython",
    "version": 3
   },
   "file_extension": ".py",
   "mimetype": "text/x-python",
   "name": "python",
   "nbconvert_exporter": "python",
   "pygments_lexer": "ipython3",
   "version": "3.10.13"
  }
 },
 "nbformat": 4,
 "nbformat_minor": 5
}
