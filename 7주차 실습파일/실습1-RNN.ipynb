{
 "cells": [
  {
   "cell_type": "markdown",
   "id": "4fa2d17b",
   "metadata": {},
   "source": [
    "RNN 코드구현"
   ]
  },
  {
   "cell_type": "code",
   "execution_count": null,
   "id": "5ef02d78",
   "metadata": {},
   "outputs": [],
   "source": [
    "import numpy as np\n",
    "\n",
    "def softmax(x):\n",
    "   e_x = np.exp(x - np.max(x, axis=0, keepdims=True))\n",
    "   return e_x / np.sum(e_x, axis=0, keepdims=True)\n"
   ]
  },
  {
   "cell_type": "code",
   "execution_count": null,
   "id": "1b81ab22",
   "metadata": {},
   "outputs": [],
   "source": [
    "def rnn_cell_forward(xt, a_prev, parameters):\n",
    "   Wax = parameters[\"Wax\"]\n",
    "   Waa = parameters[\"Waa\"]\n",
    "   Wya = parameters[\"Wya\"]\n",
    "   ba = parameters[\"ba\"]\n",
    "   by = parameters[\"by\"]\n",
    "   \n",
    "   a_next = np.tanh(Wax @ xt + Waa @ a_prev + ba)\n",
    "   yt_pred = softmax(Wya @ a_next + by)\n",
    "   \n",
    "   cache = (a_next, a_prev, xt, parameters)\n",
    "   return a_next, yt_pred, cache\n"
   ]
  },
  {
   "cell_type": "code",
   "execution_count": null,
   "id": "67578df3",
   "metadata": {},
   "outputs": [],
   "source": [
    "def rnn_forward(x, a0, parameters):\n",
    "\n",
    "    caches = []\n",
    "    n_x, m, T_x = x.shape\n",
    "    n_y, n_a = parameters[\"Wya\"].shape\n",
    "    \n",
    "    a = np.zeros((n_a, m, T_x))\n",
    "    y_pred = np.zeros((n_y, m, T_x))\n",
    "    \n",
    "    a_next = a0\n",
    "    for t in range(T_x):\n",
    "        xt = x[:, :, t]\n",
    "        a_next, yt_pred, cache = rnn_cell_forward(xt, a_next, parameters)\n",
    "        a[:, :, t] = a_next\n",
    "        y_pred[:, :, t] = yt_pred\n",
    "        caches.append(cache)\n",
    "    \n",
    "    caches = (caches, x)\n",
    "    return a, y_pred, caches\n"
   ]
  },
  {
   "cell_type": "code",
   "execution_count": null,
   "id": "b1afac71",
   "metadata": {},
   "outputs": [],
   "source": [
    "# 테스트 코드\n",
    "np.random.seed(1)\n",
    "n_x, m, T_x = 3, 10, 4\n",
    "n_a, n_y = 5, 2\n",
    "x_test = np.random.randn(n_x, m, T_x)\n",
    "a0_test = np.random.randn(n_a, m)\n",
    "parameters_test = {\n",
    "    \"Waa\": np.random.randn(n_a, n_a),\n",
    "    \"Wax\": np.random.randn(n_a, n_x),\n",
    "    \"Wya\": np.random.randn(n_y, n_a),\n",
    "    \"ba\": np.random.randn(n_a, 1),\n",
    "    \"by\": np.random.randn(n_y, 1)\n",
    "}\n",
    "a_out, y_pred_out, caches_out = rnn_forward(x_test, a0_test, parameters_test)\n",
    "print(\"a_out[4] = \\n\", a_out[4])\n",
    "print(\"y_pred_out[1] = \\n\", y_pred_out[1])\n"
   ]
  },
  {
   "cell_type": "code",
   "execution_count": null,
   "id": "55fabade",
   "metadata": {},
   "outputs": [],
   "source": [
    "def rnn_cell_backward(da_next, cache):\n",
    "    \"\"\"\n",
    "    단일 RNN 셀의 역전파 단계를 구현합니다.\n",
    "    \"\"\"\n",
    "    (a_next, a_prev, xt, parameters) = cache\n",
    "    Wax = parameters[\"Wax\"]\n",
    "    Waa = parameters[\"Waa\"]\n",
    "    Wya = parameters[\"Wya\"]\n",
    "    \n",
    "    dtanh = (1 - a_next ** 2) * da_next\n",
    "    dWax = dtanh @ xt.T\n",
    "    dWaa = dtanh @ a_prev.T\n",
    "    dba = np.sum(dtanh, axis=1, keepdims=True)\n",
    "    \n",
    "    da_prev = Waa.T @ dtanh\n",
    "    \n",
    "    return da_prev, dWax, dWaa, dba\n"
   ]
  },
  {
   "cell_type": "code",
   "execution_count": null,
   "id": "4faaf0f5",
   "metadata": {},
   "outputs": [],
   "source": [
    "def rnn_backward(da, caches):\n",
    "    \"\"\"\n",
    "    기본 RNN의 역전파 단계를 구현합니다.\n",
    "    \n",
    "    매개변수:\n",
    "    da -- 은닉 상태에 대한 손실의 기울기, 크기 (n_a, m, T_x)인 넘파이 배열\n",
    "    caches -- 순전파에서 저장된 값들의 튜플, (캐시 리스트, x)를 포함\n",
    "    \n",
    "    반환값:\n",
    "    gradients -- 가중치의 기울기를 포함하는 딕셔너리\n",
    "    \"\"\"\n",
    "    (caches, x) = caches\n",
    "    n_a, m, T_x = da.shape\n",
    "    n_x, _, _ = x.shape\n"
   ]
  },
  {
   "cell_type": "code",
   "execution_count": null,
   "id": "e3c54751",
   "metadata": {},
   "outputs": [],
   "source": [
    "# 기울기 초기화\n",
    "    gradients = {\n",
    "        \"dWax\": np.zeros((n_a, n_x)),\n",
    "        \"dWaa\": np.zeros((n_a, n_a)),\n",
    "        \"dba\": np.zeros((n_a, 1)),\n",
    "        \"da_prev\": np.zeros((n_a, m))\n",
    "    }\n",
    "    \n",
    "    da_next = np.zeros((n_a, m))\n",
    "    \n",
    "    # 시간 축을 따라 역전파 수행\n",
    "    for t in reversed(range(T_x)):\n",
    "        cache = caches[t]\n",
    "        da_next, dWax_t, dWaa_t, dba_t = rnn_cell_backward(da[:, :, t] + da_next, cache)\n",
    "        \n",
    "        # 기울기 누적\n",
    "        gradients[\"dWax\"] += dWax_t\n",
    "        gradients[\"dWaa\"] += dWaa_t\n",
    "        gradients[\"dba\"] += dba_t\n",
    "    \n",
    "    return gradients\n"
   ]
  },
  {
   "cell_type": "code",
   "execution_count": null,
   "id": "49ecda47",
   "metadata": {},
   "outputs": [],
   "source": [
    "# 역전파 테스트 코드\n",
    "np.random.seed(2)\n",
    "da_test = np.random.randn(n_a, m, T_x)\n",
    "gradients_out = rnn_backward(da_test, caches_out)\n",
    "print(\"dWax = \\n\", gradients_out[\"dWax\"])\n",
    "print(\"dWaa = \\n\", gradients_out[\"dWaa\"])\n",
    "print(\"dba = \\n\", gradients_out[\"dba\"])\n"
   ]
  }
 ],
 "metadata": {
  "kernelspec": {
   "display_name": "Python 3 (ipykernel)",
   "language": "python",
   "name": "python3"
  },
  "language_info": {
   "codemirror_mode": {
    "name": "ipython",
    "version": 3
   },
   "file_extension": ".py",
   "mimetype": "text/x-python",
   "name": "python",
   "nbconvert_exporter": "python",
   "pygments_lexer": "ipython3",
   "version": "3.10.13"
  }
 },
 "nbformat": 4,
 "nbformat_minor": 5
}
