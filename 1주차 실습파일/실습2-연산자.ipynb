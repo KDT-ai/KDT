{
 "cells": [
  {
   "cell_type": "markdown",
   "metadata": {},
   "source": [
    "산출연산자"
   ]
  },
  {
   "cell_type": "code",
   "execution_count": 1,
   "metadata": {},
   "outputs": [
    {
     "name": "stdout",
     "output_type": "stream",
     "text": [
      "덧셈: 13\n",
      "뺄셈: 7\n",
      "곱셈: 30\n",
      "나눗셈: 3.3333333333333335\n",
      "정수 나눗셈: 3\n",
      "나머지: 1\n",
      "거듭제곱곱: 1000\n"
     ]
    }
   ],
   "source": [
    "a = 10\n",
    "b = 3\n",
    "print(\"덧셈:\", a + b)           # 13\n",
    "print(\"뺄셈:\", a - b)           # 7\n",
    "print(\"곱셈:\", a * b)           # 30\n",
    "print(\"나눗셈:\", a / b)         # 3.33333333333333335\n",
    "print(\"정수 나눗셈:\", a // b)   # 3\n",
    "print(\"나머지:\", a % b)         # 1\n",
    "print(\"거듭제곱곱:\", a ** b)    # 10의 3제곱 : 1000"
   ]
  },
  {
   "cell_type": "markdown",
   "metadata": {},
   "source": [
    "대입연산자"
   ]
  },
  {
   "cell_type": "code",
   "execution_count": 2,
   "metadata": {},
   "outputs": [
    {
     "name": "stdout",
     "output_type": "stream",
     "text": [
      "초기 x: 10\n",
      "x += 5: 15\n",
      "x -= 3: 12\n",
      "x *= 2: 24\n"
     ]
    }
   ],
   "source": [
    "x = 10                  # x에 10을 할당\n",
    "print(\"초기 x:\", x)     # 출력 : 10 \n",
    "x += 5                  # x = x + 5, 즉 15가 됨\n",
    "print(\"x += 5:\", x)     # 출력 : 15 \n",
    "x -= 3                  # x에 10을 할당\n",
    "print(\"x -= 3:\", x)     # 출력 : 12 \n",
    "x *= 2                  # x에 10을 할당\n",
    "print(\"x *= 2:\", x)     # 출력 : 24"
   ]
  },
  {
   "cell_type": "code",
   "execution_count": 3,
   "metadata": {},
   "outputs": [
    {
     "name": "stdout",
     "output_type": "stream",
     "text": [
      "x /= 4:  6.0\n",
      "x //= 2:  3.0\n",
      "x %= 2:  1.0\n",
      "x **= 3:  1.0\n"
     ]
    }
   ],
   "source": [
    "x /= 4                  # x = x / 4, 즉 6.0이 됨 (나눗셈은 float)\n",
    "print(\"x /= 4: \", x)    # 출력 : 6.0\n",
    "x //= 2                 # x = x //2, 정수 나눗셈으로 3.0(float로 출력 될 수도 있음)\n",
    "print(\"x //= 2: \", x)   # 출력 : 3.0\n",
    "\n",
    "x %= 2                  # x = x % 2, 즉 3.0 % 2 = 1.0\n",
    "print(\"x %= 2: \", x)    # 출력 : 1.0\n",
    "x **= 3                 # x = x ** 3, 1.0의 3제곱은 1.0\n",
    "print(\"x **= 3: \", x)   # 출력 : 1.0"
   ]
  },
  {
   "cell_type": "markdown",
   "metadata": {},
   "source": [
    "비교연산자"
   ]
  },
  {
   "cell_type": "code",
   "execution_count": 4,
   "metadata": {},
   "outputs": [
    {
     "name": "stdout",
     "output_type": "stream",
     "text": [
      "a == b : False\n",
      "a != b : True\n",
      "a < b : True\n",
      "a > b: False\n",
      "a <= 10 : True\n",
      "b >= 15 : True\n"
     ]
    }
   ],
   "source": [
    "a = 10\n",
    "b = 20\n",
    "print(\"a == b :\", a == b)       # False (10은 20과 같지 않음)\n",
    "print(\"a != b :\", a != b)       # True (10은 20과 다름)\n",
    "print(\"a < b :\", a < b)         # True (10은 20보다 작음)\n",
    "print(\"a > b:\", a > b)          # False (10은 20보다 크지 않음)\n",
    "print(\"a <= 10 :\", a <= 10)     # True (10은 10보다 작거나 같음)\n",
    "print(\"b >= 15 :\", b >= 15)     # True (20은 15보다 크거나 같음)"
   ]
  },
  {
   "cell_type": "markdown",
   "metadata": {},
   "source": [
    "논리연산자"
   ]
  },
  {
   "cell_type": "code",
   "execution_count": 5,
   "metadata": {},
   "outputs": [
    {
     "name": "stdout",
     "output_type": "stream",
     "text": [
      "a and b :  False\n",
      "a or b :  True\n",
      "not a :  False\n",
      "15는 10보다 크고 20보다 작다 :  True\n",
      "15는 10보다 크거나 5보다 작다 :  True\n"
     ]
    }
   ],
   "source": [
    "a = True\n",
    "b = False\n",
    "print(\"a and b : \", a and b)        # False, 둘다 True여야 함\n",
    "print(\"a or b : \", a or b)          # True, 하나만 True여도 됨\n",
    "print(\"not a : \", not a)            # False, a가 True이므로 반대는 False\n",
    "\n",
    "# 복합 조건 예시\n",
    "x = 15\n",
    "print(\"15는 10보다 크고 20보다 작다 : \", (x > 10) and (x <20))      # True\n",
    "print(\"15는 10보다 크거나 5보다 작다 : \", (x > 10) or (x < 5))      # True"
   ]
  },
  {
   "cell_type": "markdown",
   "metadata": {},
   "source": [
    "문자열연산자"
   ]
  },
  {
   "cell_type": "code",
   "execution_count": 6,
   "metadata": {},
   "outputs": [
    {
     "name": "stdout",
     "output_type": "stream",
     "text": [
      "연결된 문자열 :  Hello Alice\n",
      "반복된 문자열 :  Python! Python! Python! \n"
     ]
    }
   ],
   "source": [
    "# 문자열 연결 예시\n",
    "greeting = \"Hello\"\n",
    "name = \"Alice\"\n",
    "message = greeting + \" \" + name     # 공백을 넣어 연결\n",
    "print(\"연결된 문자열 : \", message)  # 출력 : Hello Alice\n",
    "\n",
    "# 문자열 반복 예시\n",
    "repeat_word = \"Python! \"\n",
    "print(\"반복된 문자열 : \", repeat_word * 3)\n",
    "# 출력 : Python! Python! Python! \n",
    "\n",
    "# 다른 산출연산자들은 문자열에 사용할 수 없습니다.\n",
    "# 예를 들어, \"Hello\" - \"H와 같은 연산은 오류를 발생시킵니다\""
   ]
  },
  {
   "cell_type": "markdown",
   "metadata": {},
   "source": [
    "연산자 우선순위"
   ]
  },
  {
   "cell_type": "code",
   "execution_count": 7,
   "metadata": {},
   "outputs": [
    {
     "name": "stdout",
     "output_type": "stream",
     "text": [
      "우선순위 예시 :  14\n",
      "우선순위 예시 :  20\n"
     ]
    }
   ],
   "source": [
    "result = 2 + 3 * 4          # 곱셈이 먼저 실행되어 2 + (3*4) = 14가 됨\n",
    "print(\"우선순위 예시 : \", result)   # 출력 : 14\n",
    "\n",
    "result = (2 + 3) * 4        # 괄호로 우선순위를 변경하여 (2 + 3)*4 = 20\n",
    "print(\"우선순위 예시 : \", result)   # 출력 : 14"
   ]
  }
 ],
 "metadata": {
  "kernelspec": {
   "display_name": "jupyter113",
   "language": "python",
   "name": "python3"
  },
  "language_info": {
   "codemirror_mode": {
    "name": "ipython",
    "version": 3
   },
   "file_extension": ".py",
   "mimetype": "text/x-python",
   "name": "python",
   "nbconvert_exporter": "python",
   "pygments_lexer": "ipython3",
   "version": "3.13.2"
  }
 },
 "nbformat": 4,
 "nbformat_minor": 2
}
