{
 "cells": [
  {
   "cell_type": "markdown",
   "metadata": {},
   "source": [
    "표준입출력"
   ]
  },
  {
   "cell_type": "code",
   "execution_count": 1,
   "metadata": {},
   "outputs": [
    {
     "name": "stdout",
     "output_type": "stream",
     "text": [
      "안녕하세요, 성균이 님!\n"
     ]
    }
   ],
   "source": [
    "# 사용자가 이름을 입력하도록 안내하고 입력받기\n",
    "name = input(\"이름을 입력하세요: \")\n",
    "print(\"안녕하세요,\", name, \"님!\")"
   ]
  },
  {
   "cell_type": "code",
   "execution_count": 2,
   "metadata": {},
   "outputs": [
    {
     "name": "stdout",
     "output_type": "stream",
     "text": [
      "Hello, World!\n",
      "a의 값:  10 이고, b의 값 :  20\n",
      "Python, Java, C++\n",
      "첫 번째 줄...두 번째 줄\n"
     ]
    }
   ],
   "source": [
    "# 기본 출력 예제\n",
    "print(\"Hello, World!\")      # 단순 문자열 출력\n",
    "\n",
    "# 여러 값을 출력할 때\n",
    "a = 10\n",
    "b = 20\n",
    "print(\"a의 값: \", a, \"이고, b의 값 : \", b)  # 값 사이에 기본적으로 공백을 삽입하여 출력\n",
    "\n",
    "# sep과 end 옵션 사용 예제\n",
    "print(\"Python\", \"Java\", \"C++\", sep=\", \")    # 각 단어 사이에 \", \"를 삽입하여 출력\n",
    "print(\"첫 번째 줄\", end = \"...\")            # 출력 후 기본 줄바꿈 대신 ...로 끝내기기\n",
    "print(\"두 번째 줄\")"
   ]
  },
  {
   "cell_type": "code",
   "execution_count": 3,
   "metadata": {},
   "outputs": [
    {
     "name": "stdout",
     "output_type": "stream",
     "text": [
      "내년에는 19 살이 됩니다.\n",
      "키는 185.2 cm 입니다.\n"
     ]
    }
   ],
   "source": [
    "age = int(input(\"나이를 입력하세요: \")) # 정수 변환\n",
    "print(\"내년에는\", age + 1, \"살이 됩니다.\")\n",
    "\n",
    "height = float(input(\"키를 입력하세요: \")) # 실수 변환\n",
    "print(\"키는\", height, \"cm 입니다.\")"
   ]
  },
  {
   "cell_type": "code",
   "execution_count": 4,
   "metadata": {},
   "outputs": [
    {
     "name": "stdout",
     "output_type": "stream",
     "text": [
      "Hello, World!\n",
      "10 20 30\n",
      "Python-is-fun\n",
      "줄바꿈 없이 출력 다음 출력\n"
     ]
    }
   ],
   "source": [
    "print(\"Hello, World!\")  # 문자열 출력\n",
    "print(10, 20, 30)   # 여러 개 출력 (공백으로 구분)\n",
    "print(\"Python\", \"is\", \"fun\", sep=\"-\")   # 구분자 변경\n",
    "print(\"줄바꿈 없이 출력\", end=\" \")  # end 옵션 사용\n",
    "print(\"다음 출력\")"
   ]
  },
  {
   "cell_type": "markdown",
   "metadata": {},
   "source": [
    "콤마(,)를 이용한 출력"
   ]
  },
  {
   "cell_type": "code",
   "execution_count": 5,
   "metadata": {},
   "outputs": [
    {
     "name": "stdout",
     "output_type": "stream",
     "text": [
      "이름: Alice 나이: 25\n",
      "10 20 30\n"
     ]
    }
   ],
   "source": [
    "name = \"Alice\"\n",
    "age = 25\n",
    "\n",
    "print(\"이름:\", name, \"나이:\", age)  # 자동으로 공백 삽입\n",
    "print(10,20,30)     # 10 20 30"
   ]
  },
  {
   "cell_type": "markdown",
   "metadata": {},
   "source": [
    "% 형식지정자를 이용한 출력"
   ]
  },
  {
   "cell_type": "code",
   "execution_count": 6,
   "metadata": {},
   "outputs": [
    {
     "name": "stdout",
     "output_type": "stream",
     "text": [
      "이름: Bob, 나이: 30, 키: 175.5cm\n"
     ]
    }
   ],
   "source": [
    "name = \"Bob\"\n",
    "age = 30\n",
    "height = 175.5\n",
    "\n",
    "print(\"이름: %s, 나이: %d, 키: %.1fcm\" %(name, age, height))"
   ]
  },
  {
   "cell_type": "markdown",
   "metadata": {},
   "source": [
    "format() 함수를 이용한 출력"
   ]
  },
  {
   "cell_type": "code",
   "execution_count": 7,
   "metadata": {},
   "outputs": [
    {
     "name": "stdout",
     "output_type": "stream",
     "text": [
      "이름: Charlie, 나이: 28, 키: 180.46cm\n",
      "이름: David, 나이: 35, 키: 178.30cm\n",
      "이름: Emma, 나이: 27, 키: 165.7cm\n"
     ]
    }
   ],
   "source": [
    "# 위치 기반\n",
    "print(\"이름: {}, 나이: {}, 키: {:.2f}cm\".format(\"Charlie\", 28, 180.456))\n",
    "\n",
    "# 인덱스 지정 가능\n",
    "print(\"이름: {0}, 나이: {1}, 키: {2:.2f}cm\".format(\"David\", 35, 178.3))\n",
    "\n",
    "# 키워드 기반반\n",
    "print(\"이름: {name}, 나이: {age}, 키: {height:.1f}cm\".format(name=\"Emma\", age=27, height=165.7))"
   ]
  },
  {
   "cell_type": "markdown",
   "metadata": {},
   "source": [
    "f-string 포맷팅을 이용한 출력"
   ]
  },
  {
   "cell_type": "code",
   "execution_count": 8,
   "metadata": {},
   "outputs": [
    {
     "name": "stdout",
     "output_type": "stream",
     "text": [
      "이름: Frank, 나이: 40, 키: 172.80cm\n"
     ]
    }
   ],
   "source": [
    "name = \"Frank\"\n",
    "age = 40\n",
    "height = 172.8\n",
    "\n",
    "print(f\"이름: {name}, 나이: {age}, 키: {height:.2f}cm\")"
   ]
  }
 ],
 "metadata": {
  "kernelspec": {
   "display_name": "jupyter113",
   "language": "python",
   "name": "python3"
  },
  "language_info": {
   "codemirror_mode": {
    "name": "ipython",
    "version": 3
   },
   "file_extension": ".py",
   "mimetype": "text/x-python",
   "name": "python",
   "nbconvert_exporter": "python",
   "pygments_lexer": "ipython3",
   "version": "3.13.2"
  }
 },
 "nbformat": 4,
 "nbformat_minor": 2
}
