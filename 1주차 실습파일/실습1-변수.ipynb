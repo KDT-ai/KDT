{
 "cells": [
  {
   "cell_type": "markdown",
   "metadata": {},
   "source": [
    "변수 생성 및 명명 규칙"
   ]
  },
  {
   "cell_type": "code",
   "execution_count": 1,
   "metadata": {},
   "outputs": [
    {
     "name": "stdout",
     "output_type": "stream",
     "text": [
      "20\n",
      "Bob\n",
      "True\n"
     ]
    }
   ],
   "source": [
    "# 올바른 변수명\n",
    "student_age = 20        # 숫자를 저장하는 변수\n",
    "student_name = \"Bob\"    # 문자열을 저장하는 변수\n",
    "_is_active = True       # 불리언 값을 저장하는 변수\n",
    "print(student_age)      # 출력 : 20\n",
    "print(student_name)     # 출력 : Bob\n",
    "print(_is_active)       # 출력 : True\n",
    "\n",
    "# 잘못된 변수명 (에러 발생 예시 - 주석으로 표시)\n",
    "# 1st_student = \"Alice\"     # 숫자로 시작하면 안됨\n",
    "# student name = \"John\"     # 공백 포함 불가\n",
    "# if = 10                   # 예약어는 변수명으로 사용 불가"
   ]
  },
  {
   "cell_type": "markdown",
   "metadata": {},
   "source": [
    "변수 사용의 실용 예시"
   ]
  },
  {
   "cell_type": "code",
   "execution_count": 2,
   "metadata": {},
   "outputs": [
    {
     "name": "stdout",
     "output_type": "stream",
     "text": [
      "두 수의 합은:  35\n"
     ]
    }
   ],
   "source": [
    "# 두 숫자의 합을 구하는 예제 \n",
    "num1 = 15\n",
    "num2 = 20\n",
    "sum_result = num1 + num2    # sum_result 변수에 두 숫자의 합을 저장\n",
    "\n",
    "print(\"두 수의 합은: \", sum_result) #출력 : 두 수의 합은 : 35"
   ]
  },
  {
   "cell_type": "code",
   "execution_count": 3,
   "metadata": {},
   "outputs": [
    {
     "name": "stdout",
     "output_type": "stream",
     "text": [
      "전체 이름 :  John Doe\n"
     ]
    }
   ],
   "source": [
    "first_name = \"John\"\n",
    "last_name = \"Doe\"\n",
    "full_name = first_name + \" \" + last_name    # 문자열 결합\n",
    "\n",
    "print(\"전체 이름 : \", full_name)    #출력 : 전체 이름 : John Doe"
   ]
  }
 ],
 "metadata": {
  "kernelspec": {
   "display_name": "jupyter113",
   "language": "python",
   "name": "python3"
  },
  "language_info": {
   "codemirror_mode": {
    "name": "ipython",
    "version": 3
   },
   "file_extension": ".py",
   "mimetype": "text/x-python",
   "name": "python",
   "nbconvert_exporter": "python",
   "pygments_lexer": "ipython3",
   "version": "3.13.2"
  }
 },
 "nbformat": 4,
 "nbformat_minor": 2
}
