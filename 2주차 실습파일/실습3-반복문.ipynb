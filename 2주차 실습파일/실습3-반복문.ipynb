{
 "cells": [
  {
   "cell_type": "markdown",
   "metadata": {},
   "source": [
    "Range문"
   ]
  },
  {
   "cell_type": "code",
   "execution_count": 1,
   "metadata": {},
   "outputs": [
    {
     "name": "stdout",
     "output_type": "stream",
     "text": [
      "0\n",
      "1\n",
      "2\n",
      "3\n",
      "4\n"
     ]
    }
   ],
   "source": [
    "for i in range(5):\n",
    "    print(i)"
   ]
  },
  {
   "cell_type": "markdown",
   "metadata": {},
   "source": [
    "For문"
   ]
  },
  {
   "cell_type": "code",
   "execution_count": 2,
   "metadata": {},
   "outputs": [
    {
     "name": "stdout",
     "output_type": "stream",
     "text": [
      "숫자: 1\n",
      "숫자: 2\n",
      "숫자: 3\n",
      "숫자: 4\n",
      "숫자: 5\n"
     ]
    }
   ],
   "source": [
    "for i in range(1, 6):\n",
    "    print(f\"숫자: {i}\")"
   ]
  },
  {
   "cell_type": "code",
   "execution_count": 3,
   "metadata": {},
   "outputs": [
    {
     "name": "stdout",
     "output_type": "stream",
     "text": [
      "과일 이름: 사과\n",
      "과일 이름: 바나나\n",
      "과일 이름: 딸기\n",
      "과일 이름: 포도\n"
     ]
    }
   ],
   "source": [
    "fruits = [\"사과\", \"바나나\", \"딸기\", \"포도\"]\n",
    "\n",
    "for fruit in fruits:\n",
    "    print(f\"과일 이름: {fruit}\")"
   ]
  },
  {
   "cell_type": "markdown",
   "metadata": {},
   "source": [
    "While문"
   ]
  },
  {
   "cell_type": "code",
   "execution_count": 4,
   "metadata": {},
   "outputs": [
    {
     "name": "stdout",
     "output_type": "stream",
     "text": [
      "카운트: 1\n",
      "카운트: 2\n",
      "카운트: 3\n",
      "카운트: 4\n",
      "카운트: 5\n"
     ]
    }
   ],
   "source": [
    "count = 1\n",
    "\n",
    "while count <= 5:\n",
    "    print(f\"카운트: {count}\")\n",
    "    count += 1"
   ]
  },
  {
   "cell_type": "code",
   "execution_count": null,
   "metadata": {},
   "outputs": [
    {
     "name": "stdout",
     "output_type": "stream",
     "text": [
      "입력하신 값: asd\n",
      "프로그래을 종료합니다.\n"
     ]
    }
   ],
   "source": [
    "#사용자 입력을 받아 종료하는 while 반복문\n",
    "while True:\n",
    "    user_input = input(\"종료하려면 'exit'을 입력하세요: \")\n",
    "    if user_input.lower() == 'exit':\n",
    "        print(\"프로그램을 종료합니다.\")\n",
    "        break\n",
    "    else:\n",
    "        print(f\"입력하신 값: {user_input}\")"
   ]
  },
  {
   "cell_type": "markdown",
   "metadata": {},
   "source": [
    "Do-While문"
   ]
  },
  {
   "cell_type": "code",
   "execution_count": 6,
   "metadata": {},
   "outputs": [
    {
     "name": "stdout",
     "output_type": "stream",
     "text": [
      "입력한 양수: 5\n"
     ]
    }
   ],
   "source": [
    "while True:\n",
    "    number = int(input(\"양수를 입력하세요: \"))\n",
    "    if number > 0:\n",
    "        print(f\"입력한 양수: {number}\")\n",
    "        break   #조건이 맞으면 루프 종료\n",
    "    else:\n",
    "        print(\"양수가 아닙니다. 다시 입력하세요.\")"
   ]
  },
  {
   "cell_type": "code",
   "execution_count": 7,
   "metadata": {},
   "outputs": [
    {
     "name": "stdout",
     "output_type": "stream",
     "text": [
      "3의 배수: 3\n",
      "3의 배수: 6\n",
      "3의 배수: 9\n",
      "10을 초과했습니다. 반복 종료!\n"
     ]
    }
   ],
   "source": [
    "for i in range(1, 21):\n",
    "    if i > 10:\n",
    "        print(\"10을 초과했습니다. 반복 종료!\")\n",
    "        break   # 10 초과 시 종료\n",
    "\n",
    "    if i % 3 != 0:\n",
    "        continue    # 3의 배수가 아니면 건너뛰기\n",
    "\n",
    "    print(f\"3의 배수: {i}\")"
   ]
  }
 ],
 "metadata": {
  "kernelspec": {
   "display_name": "jupyter113",
   "language": "python",
   "name": "python3"
  },
  "language_info": {
   "codemirror_mode": {
    "name": "ipython",
    "version": 3
   },
   "file_extension": ".py",
   "mimetype": "text/x-python",
   "name": "python",
   "nbconvert_exporter": "python",
   "pygments_lexer": "ipython3",
   "version": "3.13.2"
  }
 },
 "nbformat": 4,
 "nbformat_minor": 2
}
