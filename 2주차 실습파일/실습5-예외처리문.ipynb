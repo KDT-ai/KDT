{
 "cells": [
  {
   "cell_type": "markdown",
   "metadata": {},
   "source": [
    "Try-except문"
   ]
  },
  {
   "cell_type": "code",
   "execution_count": 2,
   "metadata": {},
   "outputs": [
    {
     "name": "stdout",
     "output_type": "stream",
     "text": [
      "0.08130081300813008\n"
     ]
    }
   ],
   "source": [
    "try:\n",
    "    num = int(input(\"숫자를 입력하세요: \"))\n",
    "    print(10 / num)\n",
    "except ZeroDivisionError:\n",
    "    print(\"0으로 나눌 수 없습니다.\")"
   ]
  },
  {
   "cell_type": "code",
   "execution_count": 3,
   "metadata": {},
   "outputs": [
    {
     "name": "stdout",
     "output_type": "stream",
     "text": [
      "결과 : 0.5\n"
     ]
    }
   ],
   "source": [
    "try:\n",
    "    num1 = int(input(\"첫 번째 입력: \"))\n",
    "    num2 = int(input(\"두 번째 입력: \"))\n",
    "    result = num1 / num2 \n",
    "    print(f\"결과 : {result}\")\n",
    "except ValueError:\n",
    "    print((\"❌ 숫자만 입력하세요\"))\n",
    "except ZeroDivisionError:\n",
    "    print(\"❌ 0으로 나눌 수 없습니다.\")\n",
    "except Exception as e:\n",
    "    print(f\"❌ 알 수 없는 에러 발생: {e}\")"
   ]
  }
 ],
 "metadata": {
  "kernelspec": {
   "display_name": "jupyter113",
   "language": "python",
   "name": "python3"
  },
  "language_info": {
   "codemirror_mode": {
    "name": "ipython",
    "version": 3
   },
   "file_extension": ".py",
   "mimetype": "text/x-python",
   "name": "python",
   "nbconvert_exporter": "python",
   "pygments_lexer": "ipython3",
   "version": "3.13.2"
  }
 },
 "nbformat": 4,
 "nbformat_minor": 2
}
